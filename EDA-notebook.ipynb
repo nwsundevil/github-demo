{
 "cells": [
  {
   "cell_type": "markdown",
   "id": "74309b0e",
   "metadata": {},
   "source": [
    "# Example notebook"
   ]
  },
  {
   "cell_type": "markdown",
   "id": "7d89d361",
   "metadata": {},
   "source": [
    "import pandas as pd\n",
    "import numpy as np\n",
    "import seahorn as sns"
   ]
  }
 ],
 "metadata": {
  "language_info": {
   "name": "python"
  }
 },
 "nbformat": 4,
 "nbformat_minor": 5
}
